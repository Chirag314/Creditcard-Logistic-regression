{
  "nbformat": 4,
  "nbformat_minor": 0,
  "metadata": {
    "colab": {
      "provenance": [],
      "collapsed_sections": [],
      "authorship_tag": "ABX9TyMvZsKSfurOelNUdSooBANm",
      "include_colab_link": true
    },
    "kernelspec": {
      "name": "python3",
      "display_name": "Python 3"
    },
    "language_info": {
      "name": "python"
    }
  },
  "cells": [
    {
      "cell_type": "markdown",
      "metadata": {
        "id": "view-in-github",
        "colab_type": "text"
      },
      "source": [
        "<a href=\"https://colab.research.google.com/github/Chirag314/Creditcard-Logistic-regression/blob/main/UCL_creditcard_logistic_regression.ipynb\" target=\"_parent\"><img src=\"https://colab.research.google.com/assets/colab-badge.svg\" alt=\"Open In Colab\"/></a>"
      ]
    },
    {
      "cell_type": "markdown",
      "source": [
        "###This notebook is copied from exercises from book Ensemble Machine Learning Cookbook."
      ],
      "metadata": {
        "id": "de3ggC8Kv_99"
      }
    },
    {
      "cell_type": "code",
      "source": [
        "#import required libraries\n",
        "from sklearn.linear_model import LinearRegression\n",
        "from sklearn.tree import DecisionTreeRegressor\n",
        "from sklearn.svm import SVR\n",
        "from sklearn.tree import DecisionTreeClassifier\n",
        "from sklearn.svm import SVC\n",
        "from sklearn.linear_model import LogisticRegression, SGDRegressor,SGDClassifier\n",
        "from sklearn.ensemble import VotingClassifier\n",
        "from sklearn.model_selection import KFold,LeaveOneOut\n",
        "from sklearn.metrics import mean_squared_error, r2_score,roc_curve, auc\n",
        "from sklearn.model_selection import train_test_split\n",
        "import numpy as np\n",
        "import matplotlib.pyplot as plt\n",
        "import seaborn as sns\n",
        "from sklearn.utils import resample\n",
        "from sklearn.preprocessing import StandardScaler"
      ],
      "metadata": {
        "id": "CWjW7ISB-O8s"
      },
      "execution_count": 9,
      "outputs": []
    },
    {
      "cell_type": "code",
      "execution_count": 2,
      "metadata": {
        "colab": {
          "base_uri": "https://localhost:8080/"
        },
        "id": "rror9ooAv2jU",
        "outputId": "0f121b85-58d9-45be-a2bc-02fa61db79f6"
      },
      "outputs": [
        {
          "output_type": "stream",
          "name": "stdout",
          "text": [
            "   ID  LIMIT_BAL  SEX  EDUCATION  MARRIAGE  AGE  PAY_0  PAY_2  PAY_3  PAY_4  \\\n",
            "0   1    20000.0    2          2         1   24      2      2     -1     -1   \n",
            "1   2   120000.0    2          2         2   26     -1      2      0      0   \n",
            "2   3    90000.0    2          2         2   34      0      0      0      0   \n",
            "3   4    50000.0    2          2         1   37      0      0      0      0   \n",
            "4   5    50000.0    1          2         1   57     -1      0     -1      0   \n",
            "\n",
            "   PAY_5  PAY_6  BILL_AMT1  BILL_AMT2  BILL_AMT3  BILL_AMT4  BILL_AMT5  \\\n",
            "0     -2     -2     3913.0     3102.0      689.0        0.0        0.0   \n",
            "1      0      2     2682.0     1725.0     2682.0     3272.0     3455.0   \n",
            "2      0      0    29239.0    14027.0    13559.0    14331.0    14948.0   \n",
            "3      0      0    46990.0    48233.0    49291.0    28314.0    28959.0   \n",
            "4      0      0     8617.0     5670.0    35835.0    20940.0    19146.0   \n",
            "\n",
            "   BILL_AMT6  PAY_AMT1  PAY_AMT2  PAY_AMT3  PAY_AMT4  PAY_AMT5  PAY_AMT6  \\\n",
            "0        0.0       0.0     689.0       0.0       0.0       0.0       0.0   \n",
            "1     3261.0       0.0    1000.0    1000.0    1000.0       0.0    2000.0   \n",
            "2    15549.0    1518.0    1500.0    1000.0    1000.0    1000.0    5000.0   \n",
            "3    29547.0    2000.0    2019.0    1200.0    1100.0    1069.0    1000.0   \n",
            "4    19131.0    2000.0   36681.0   10000.0    9000.0     689.0     679.0   \n",
            "\n",
            "   default.payment.next.month  \n",
            "0                           1  \n",
            "1                           1  \n",
            "2                           0  \n",
            "3                           0  \n",
            "4                           0  \n"
          ]
        }
      ],
      "source": [
        "# Read data from github. Use raw format and copy url# Note normal url and raw url will be different.\n",
        "import pandas as pd\n",
        "pd.options.display.max_rows=None\n",
        "pd.options.display.max_columns=None\n",
        "url = 'https://raw.githubusercontent.com/PacktPublishing/Ensemble-Machine-Learning-Cookbook/master/Chapter04/Logistic%20Regression/UCI_Credit_Card.csv'\n",
        "df_creditdata = pd.read_csv(url)\n",
        "#df = pd.read_csv(url)\n",
        "print(df_creditdata.head(5))"
      ]
    },
    {
      "cell_type": "code",
      "source": [
        "print(df_creditdata.shape)"
      ],
      "metadata": {
        "colab": {
          "base_uri": "https://localhost:8080/"
        },
        "id": "SHW82cySCym-",
        "outputId": "e098a947-3d1e-42d9-8a09-6a19ea56a5dd"
      },
      "execution_count": 3,
      "outputs": [
        {
          "output_type": "stream",
          "name": "stdout",
          "text": [
            "(30000, 25)\n"
          ]
        }
      ]
    },
    {
      "cell_type": "code",
      "source": [
        "# Check the variables and their types\n",
        "df_creditdata.dtypes"
      ],
      "metadata": {
        "colab": {
          "base_uri": "https://localhost:8080/"
        },
        "id": "QXd2PF03J2db",
        "outputId": "29b76204-723e-4f8b-c01d-c9b010a34357"
      },
      "execution_count": 4,
      "outputs": [
        {
          "output_type": "execute_result",
          "data": {
            "text/plain": [
              "ID                              int64\n",
              "LIMIT_BAL                     float64\n",
              "SEX                             int64\n",
              "EDUCATION                       int64\n",
              "MARRIAGE                        int64\n",
              "AGE                             int64\n",
              "PAY_0                           int64\n",
              "PAY_2                           int64\n",
              "PAY_3                           int64\n",
              "PAY_4                           int64\n",
              "PAY_5                           int64\n",
              "PAY_6                           int64\n",
              "BILL_AMT1                     float64\n",
              "BILL_AMT2                     float64\n",
              "BILL_AMT3                     float64\n",
              "BILL_AMT4                     float64\n",
              "BILL_AMT5                     float64\n",
              "BILL_AMT6                     float64\n",
              "PAY_AMT1                      float64\n",
              "PAY_AMT2                      float64\n",
              "PAY_AMT3                      float64\n",
              "PAY_AMT4                      float64\n",
              "PAY_AMT5                      float64\n",
              "PAY_AMT6                      float64\n",
              "default.payment.next.month      int64\n",
              "dtype: object"
            ]
          },
          "metadata": {},
          "execution_count": 4
        }
      ]
    },
    {
      "cell_type": "code",
      "source": [
        "#We will drop the ID column as we do not need this here:\n",
        "df_creditdata.drop(['ID'],axis=1,inplace=True)"
      ],
      "metadata": {
        "id": "nktKYl-vC5eT"
      },
      "execution_count": 5,
      "outputs": []
    },
    {
      "cell_type": "code",
      "source": [
        "# Check if there is any null values\n",
        "df_creditdata.isnull().sum()"
      ],
      "metadata": {
        "colab": {
          "base_uri": "https://localhost:8080/"
        },
        "id": "VcgsCJAGC5cN",
        "outputId": "93ee8eac-1dda-4551-dfbb-0f5f3ac83fb7"
      },
      "execution_count": 6,
      "outputs": [
        {
          "output_type": "execute_result",
          "data": {
            "text/plain": [
              "LIMIT_BAL                     0\n",
              "SEX                           0\n",
              "EDUCATION                     0\n",
              "MARRIAGE                      0\n",
              "AGE                           0\n",
              "PAY_0                         0\n",
              "PAY_2                         0\n",
              "PAY_3                         0\n",
              "PAY_4                         0\n",
              "PAY_5                         0\n",
              "PAY_6                         0\n",
              "BILL_AMT1                     0\n",
              "BILL_AMT2                     0\n",
              "BILL_AMT3                     0\n",
              "BILL_AMT4                     0\n",
              "BILL_AMT5                     0\n",
              "BILL_AMT6                     0\n",
              "PAY_AMT1                      0\n",
              "PAY_AMT2                      0\n",
              "PAY_AMT3                      0\n",
              "PAY_AMT4                      0\n",
              "PAY_AMT5                      0\n",
              "PAY_AMT6                      0\n",
              "default.payment.next.month    0\n",
              "dtype: int64"
            ]
          },
          "metadata": {},
          "execution_count": 6
        }
      ]
    },
    {
      "cell_type": "markdown",
      "source": [
        "#####There are no null values in any of the features."
      ],
      "metadata": {
        "id": "8LysqcOnDPh-"
      }
    },
    {
      "cell_type": "code",
      "source": [
        "# Split features and response variables\n",
        "X=df_creditdata.iloc[:,0:23]\n",
        "Y=df_creditdata['default.payment.next.month']\n",
        "\n",
        "# Create train and test set\n",
        "X_train, X_test, Y_train, Y_test= train_test_split(X, Y, test_size=0.3,random_state=42)"
      ],
      "metadata": {
        "id": "7dyplrTFDORt"
      },
      "execution_count": 11,
      "outputs": []
    },
    {
      "cell_type": "code",
      "source": [
        "#We standardize our predictor variables using StandardScaler():\n",
        "scaler=StandardScaler().fit(X_train)\n",
        "X_train=scaler.transform(X_train)\n",
        "X_test=scaler.transform(X_test)"
      ],
      "metadata": {
        "id": "HMJTpbuGC5aA"
      },
      "execution_count": 12,
      "outputs": []
    },
    {
      "cell_type": "code",
      "source": [
        "# Create model with SGDClassifier\n",
        "logistic_model=SGDClassifier(alpha=0.000001,loss='log', max_iter=100000,penalty='l2')\n",
        "\n",
        "#We fit our model to the data\n",
        "fitted_model=logistic_model.fit(X_train,Y_train)\n",
        "\n",
        "#Prediction\n",
        "predictedvalues=fitted_model.predict_proba(X_test)\n",
        "\n",
        "#Print probabilities\n",
        "predictedvalues\n"
      ],
      "metadata": {
        "colab": {
          "base_uri": "https://localhost:8080/"
        },
        "id": "QYVPhvsAC5Wd",
        "outputId": "8841e9ec-624a-494a-e9fc-0d1040131e61"
      },
      "execution_count": 15,
      "outputs": [
        {
          "output_type": "execute_result",
          "data": {
            "text/plain": [
              "array([[0.67339482, 0.32660518],\n",
              "       [0.78211552, 0.21788448],\n",
              "       [0.94179475, 0.05820525],\n",
              "       ...,\n",
              "       [0.88300912, 0.11699088],\n",
              "       [0.99039204, 0.00960796],\n",
              "       [0.99765132, 0.00234868]])"
            ]
          },
          "metadata": {},
          "execution_count": 15
        }
      ]
    },
    {
      "cell_type": "code",
      "source": [
        "# LEts check probabilities of one class\n",
        "# Separate values of class1\n",
        "Y_predicted=predictedvalues[:,1]\n",
        "\n",
        "# # We check to see if the right values have been considered from the predicted values\n",
        "print(Y_predicted)"
      ],
      "metadata": {
        "colab": {
          "base_uri": "https://localhost:8080/"
        },
        "id": "D9ASAKEFC5Uf",
        "outputId": "0c627722-8a9c-4321-ea63-a4e236fac322"
      },
      "execution_count": 16,
      "outputs": [
        {
          "output_type": "stream",
          "name": "stdout",
          "text": [
            "[0.32660518 0.21788448 0.05820525 ... 0.11699088 0.00960796 0.00234868]\n"
          ]
        }
      ]
    },
    {
      "cell_type": "code",
      "source": [
        "# CHeck model accuracy\n",
        "logistic_model.score(X_test,Y_test)"
      ],
      "metadata": {
        "colab": {
          "base_uri": "https://localhost:8080/"
        },
        "id": "Zv-qZPuEC5SC",
        "outputId": "c79d61d8-adea-4bcb-f5e5-81e52abd2f2c"
      },
      "execution_count": 17,
      "outputs": [
        {
          "output_type": "execute_result",
          "data": {
            "text/plain": [
              "0.7726666666666666"
            ]
          },
          "metadata": {},
          "execution_count": 17
        }
      ]
    },
    {
      "cell_type": "code",
      "source": [
        "#We can then see the area under curve (AUC) value of the receiver operating characteristic (ROC) curve:\n",
        "# We us\n",
        "fpr, tpr,thresholds=roc_curve(Y_test, Y_predicted)\n",
        "\n",
        "# We pass fpr and tpr values to auc to calculate area under curve\n",
        "roc_auc=auc(fpr,tpr)\n",
        "print(roc_auc)"
      ],
      "metadata": {
        "colab": {
          "base_uri": "https://localhost:8080/"
        },
        "id": "gKeKchsqC5Py",
        "outputId": "3e20efbb-907d-46c9-ffb9-3fa467d7fbe0"
      },
      "execution_count": 18,
      "outputs": [
        {
          "output_type": "stream",
          "name": "stdout",
          "text": [
            "0.6528476490027829\n"
          ]
        }
      ]
    },
    {
      "cell_type": "code",
      "source": [
        "#plot roc_curve\n",
        "plt.figure()\n",
        "plt.plot(fpr,tpr, color='orange', lw=2, label='ROC curve (area under curve = %0.2f)' % roc_auc)\n",
        "plt.plot([0, 1], [0, 1], color='darkgrey', lw=2, linestyle='--')\n",
        "plt.xlim([0.0, 1.0])\n",
        "plt.ylim([0.0, 1.0])\n",
        "plt.xlabel('False Positive Rate (1-Specificity)')\n",
        "plt.ylabel('True Positive Rate (Sensitivity)')\n",
        "plt.title('ROC Curve')\n",
        "plt.legend(loc='upper left')\n",
        "plt.show()"
      ],
      "metadata": {
        "colab": {
          "base_uri": "https://localhost:8080/",
          "height": 295
        },
        "id": "peyVcXvxC5NG",
        "outputId": "53abed0a-f866-48dd-ef37-78a76257d4c9"
      },
      "execution_count": 22,
      "outputs": [
        {
          "output_type": "display_data",
          "data": {
            "text/plain": [
              "<Figure size 432x288 with 1 Axes>"
            ],
            "image/png": "[encoded data removed]"
          },
          "metadata": {
            "needs_background": "light"
          }
        }
      ]
    }
  ]
}